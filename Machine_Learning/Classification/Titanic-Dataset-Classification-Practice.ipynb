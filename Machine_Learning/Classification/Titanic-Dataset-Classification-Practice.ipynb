{
 "cells": [
  {
   "cell_type": "markdown",
   "id": "cc63f93b",
   "metadata": {},
   "source": [
    "## The Survival Classification of Titanic Dataset Using Classifiers"
   ]
  },
  {
   "cell_type": "code",
   "execution_count": 1,
   "id": "03811b37",
   "metadata": {},
   "outputs": [],
   "source": [
    "# Data mining and visualization\n",
    "import numpy as np\n",
    "import pandas as pd\n",
    "import matplotlib.pyplot as plt\n",
    "import seaborn as sns\n",
    "\n",
    "# plot appears in jupyter\n",
    "%matplotlib inline\n",
    "\n",
    "# Training model\n",
    "from sklearn.linear_model import LogisticRegression # LogisticRegression\n",
    "from sklearn.naive_bayes import GaussianNB # Bayes Classifier\n",
    "from sklearn.neighbors import KNeighborsClassifier # KNN classifier\n",
    "from sklearn.ensemble import RandomForestClassifier # RandomForestClassifier\n",
    "from sklearn.svm import SVC # Supper vector machine\n",
    "\n",
    "# Evaluation\n",
    "from sklearn.model_selection import train_test_split # 拆分 train set 及 test set\n",
    "from sklearn.model_selection import GridSearchCV # tuning hyperparameters\n",
    "from sklearn.metrics import confusion_matrix, classification_report # evaluation\n",
    "from sklearn.metrics import precision_score, recall_score, f1_score # evaluation\n",
    "from sklearn.metrics import roc_curve, roc_auc_score, auc, RocCurveDisplay # visualization"
   ]
  },
  {
   "cell_type": "code",
   "execution_count": 2,
   "id": "27b671e3",
   "metadata": {},
   "outputs": [
    {
     "data": {
      "text/html": [
       "<div>\n",
       "<style scoped>\n",
       "    .dataframe tbody tr th:only-of-type {\n",
       "        vertical-align: middle;\n",
       "    }\n",
       "\n",
       "    .dataframe tbody tr th {\n",
       "        vertical-align: top;\n",
       "    }\n",
       "\n",
       "    .dataframe thead th {\n",
       "        text-align: right;\n",
       "    }\n",
       "</style>\n",
       "<table border=\"1\" class=\"dataframe\">\n",
       "  <thead>\n",
       "    <tr style=\"text-align: right;\">\n",
       "      <th></th>\n",
       "      <th>0</th>\n",
       "      <th>1</th>\n",
       "      <th>2</th>\n",
       "      <th>3</th>\n",
       "      <th>4</th>\n",
       "      <th>5</th>\n",
       "      <th>6</th>\n",
       "      <th>7</th>\n",
       "      <th>8</th>\n",
       "      <th>9</th>\n",
       "      <th>...</th>\n",
       "      <th>1303</th>\n",
       "      <th>1304</th>\n",
       "      <th>1305</th>\n",
       "      <th>1306</th>\n",
       "      <th>1307</th>\n",
       "      <th>1308</th>\n",
       "      <th>1309</th>\n",
       "      <th>1310</th>\n",
       "      <th>1311</th>\n",
       "      <th>1312</th>\n",
       "    </tr>\n",
       "  </thead>\n",
       "  <tbody>\n",
       "    <tr>\n",
       "      <th>row.names</th>\n",
       "      <td>1</td>\n",
       "      <td>2</td>\n",
       "      <td>3</td>\n",
       "      <td>4</td>\n",
       "      <td>5</td>\n",
       "      <td>6</td>\n",
       "      <td>7</td>\n",
       "      <td>8</td>\n",
       "      <td>9</td>\n",
       "      <td>10</td>\n",
       "      <td>...</td>\n",
       "      <td>1304</td>\n",
       "      <td>1305</td>\n",
       "      <td>1306</td>\n",
       "      <td>1307</td>\n",
       "      <td>1308</td>\n",
       "      <td>1309</td>\n",
       "      <td>1310</td>\n",
       "      <td>1311</td>\n",
       "      <td>1312</td>\n",
       "      <td>1313</td>\n",
       "    </tr>\n",
       "    <tr>\n",
       "      <th>pclass</th>\n",
       "      <td>1st</td>\n",
       "      <td>1st</td>\n",
       "      <td>1st</td>\n",
       "      <td>1st</td>\n",
       "      <td>1st</td>\n",
       "      <td>1st</td>\n",
       "      <td>1st</td>\n",
       "      <td>1st</td>\n",
       "      <td>1st</td>\n",
       "      <td>1st</td>\n",
       "      <td>...</td>\n",
       "      <td>3rd</td>\n",
       "      <td>3rd</td>\n",
       "      <td>3rd</td>\n",
       "      <td>3rd</td>\n",
       "      <td>3rd</td>\n",
       "      <td>3rd</td>\n",
       "      <td>3rd</td>\n",
       "      <td>3rd</td>\n",
       "      <td>3rd</td>\n",
       "      <td>3rd</td>\n",
       "    </tr>\n",
       "    <tr>\n",
       "      <th>survived</th>\n",
       "      <td>1</td>\n",
       "      <td>0</td>\n",
       "      <td>0</td>\n",
       "      <td>0</td>\n",
       "      <td>1</td>\n",
       "      <td>1</td>\n",
       "      <td>1</td>\n",
       "      <td>0</td>\n",
       "      <td>1</td>\n",
       "      <td>0</td>\n",
       "      <td>...</td>\n",
       "      <td>0</td>\n",
       "      <td>1</td>\n",
       "      <td>0</td>\n",
       "      <td>0</td>\n",
       "      <td>0</td>\n",
       "      <td>0</td>\n",
       "      <td>0</td>\n",
       "      <td>0</td>\n",
       "      <td>0</td>\n",
       "      <td>0</td>\n",
       "    </tr>\n",
       "    <tr>\n",
       "      <th>name</th>\n",
       "      <td>Allen, Miss Elisabeth Walton</td>\n",
       "      <td>Allison, Miss Helen Loraine</td>\n",
       "      <td>Allison, Mr Hudson Joshua Creighton</td>\n",
       "      <td>Allison, Mrs Hudson J.C. (Bessie Waldo Daniels)</td>\n",
       "      <td>Allison, Master Hudson Trevor</td>\n",
       "      <td>Anderson, Mr Harry</td>\n",
       "      <td>Andrews, Miss Kornelia Theodosia</td>\n",
       "      <td>Andrews, Mr Thomas, jr</td>\n",
       "      <td>Appleton, Mrs Edward Dale (Charlotte Lamson)</td>\n",
       "      <td>Artagaveytia, Mr Ramon</td>\n",
       "      <td>...</td>\n",
       "      <td>Yasbeck, Mr Antoni</td>\n",
       "      <td>Yasbeck, Mrs Antoni</td>\n",
       "      <td>Youssef, Mr Gerios</td>\n",
       "      <td>Zabour, Miss Hileni</td>\n",
       "      <td>Zabour, Miss Tamini</td>\n",
       "      <td>Zakarian, Mr Artun</td>\n",
       "      <td>Zakarian, Mr Maprieder</td>\n",
       "      <td>Zenn, Mr Philip</td>\n",
       "      <td>Zievens, Rene</td>\n",
       "      <td>Zimmerman, Leo</td>\n",
       "    </tr>\n",
       "    <tr>\n",
       "      <th>age</th>\n",
       "      <td>29.0</td>\n",
       "      <td>2.0</td>\n",
       "      <td>30.0</td>\n",
       "      <td>25.0</td>\n",
       "      <td>0.9167</td>\n",
       "      <td>47.0</td>\n",
       "      <td>63.0</td>\n",
       "      <td>39.0</td>\n",
       "      <td>58.0</td>\n",
       "      <td>71.0</td>\n",
       "      <td>...</td>\n",
       "      <td>NaN</td>\n",
       "      <td>NaN</td>\n",
       "      <td>NaN</td>\n",
       "      <td>NaN</td>\n",
       "      <td>NaN</td>\n",
       "      <td>NaN</td>\n",
       "      <td>NaN</td>\n",
       "      <td>NaN</td>\n",
       "      <td>NaN</td>\n",
       "      <td>NaN</td>\n",
       "    </tr>\n",
       "    <tr>\n",
       "      <th>embarked</th>\n",
       "      <td>Southampton</td>\n",
       "      <td>Southampton</td>\n",
       "      <td>Southampton</td>\n",
       "      <td>Southampton</td>\n",
       "      <td>Southampton</td>\n",
       "      <td>Southampton</td>\n",
       "      <td>Southampton</td>\n",
       "      <td>Southampton</td>\n",
       "      <td>Southampton</td>\n",
       "      <td>Cherbourg</td>\n",
       "      <td>...</td>\n",
       "      <td>NaN</td>\n",
       "      <td>NaN</td>\n",
       "      <td>NaN</td>\n",
       "      <td>NaN</td>\n",
       "      <td>NaN</td>\n",
       "      <td>NaN</td>\n",
       "      <td>NaN</td>\n",
       "      <td>NaN</td>\n",
       "      <td>NaN</td>\n",
       "      <td>NaN</td>\n",
       "    </tr>\n",
       "    <tr>\n",
       "      <th>home.dest</th>\n",
       "      <td>St Louis, MO</td>\n",
       "      <td>Montreal, PQ / Chesterville, ON</td>\n",
       "      <td>Montreal, PQ / Chesterville, ON</td>\n",
       "      <td>Montreal, PQ / Chesterville, ON</td>\n",
       "      <td>Montreal, PQ / Chesterville, ON</td>\n",
       "      <td>New York, NY</td>\n",
       "      <td>Hudson, NY</td>\n",
       "      <td>Belfast, NI</td>\n",
       "      <td>Bayside, Queens, NY</td>\n",
       "      <td>Montevideo, Uruguay</td>\n",
       "      <td>...</td>\n",
       "      <td>NaN</td>\n",
       "      <td>NaN</td>\n",
       "      <td>NaN</td>\n",
       "      <td>NaN</td>\n",
       "      <td>NaN</td>\n",
       "      <td>NaN</td>\n",
       "      <td>NaN</td>\n",
       "      <td>NaN</td>\n",
       "      <td>NaN</td>\n",
       "      <td>NaN</td>\n",
       "    </tr>\n",
       "    <tr>\n",
       "      <th>room</th>\n",
       "      <td>B-5</td>\n",
       "      <td>C26</td>\n",
       "      <td>C26</td>\n",
       "      <td>C26</td>\n",
       "      <td>C22</td>\n",
       "      <td>E-12</td>\n",
       "      <td>D-7</td>\n",
       "      <td>A-36</td>\n",
       "      <td>C-101</td>\n",
       "      <td>NaN</td>\n",
       "      <td>...</td>\n",
       "      <td>NaN</td>\n",
       "      <td>NaN</td>\n",
       "      <td>NaN</td>\n",
       "      <td>NaN</td>\n",
       "      <td>NaN</td>\n",
       "      <td>NaN</td>\n",
       "      <td>NaN</td>\n",
       "      <td>NaN</td>\n",
       "      <td>NaN</td>\n",
       "      <td>NaN</td>\n",
       "    </tr>\n",
       "    <tr>\n",
       "      <th>ticket</th>\n",
       "      <td>24160 L221</td>\n",
       "      <td>NaN</td>\n",
       "      <td>NaN</td>\n",
       "      <td>NaN</td>\n",
       "      <td>NaN</td>\n",
       "      <td>NaN</td>\n",
       "      <td>13502 L77</td>\n",
       "      <td>NaN</td>\n",
       "      <td>NaN</td>\n",
       "      <td>NaN</td>\n",
       "      <td>...</td>\n",
       "      <td>NaN</td>\n",
       "      <td>NaN</td>\n",
       "      <td>NaN</td>\n",
       "      <td>NaN</td>\n",
       "      <td>NaN</td>\n",
       "      <td>NaN</td>\n",
       "      <td>NaN</td>\n",
       "      <td>NaN</td>\n",
       "      <td>NaN</td>\n",
       "      <td>NaN</td>\n",
       "    </tr>\n",
       "    <tr>\n",
       "      <th>boat</th>\n",
       "      <td>2</td>\n",
       "      <td>NaN</td>\n",
       "      <td>(135)</td>\n",
       "      <td>NaN</td>\n",
       "      <td>11</td>\n",
       "      <td>3</td>\n",
       "      <td>10</td>\n",
       "      <td>NaN</td>\n",
       "      <td>2</td>\n",
       "      <td>(22)</td>\n",
       "      <td>...</td>\n",
       "      <td>NaN</td>\n",
       "      <td>NaN</td>\n",
       "      <td>NaN</td>\n",
       "      <td>NaN</td>\n",
       "      <td>NaN</td>\n",
       "      <td>NaN</td>\n",
       "      <td>NaN</td>\n",
       "      <td>NaN</td>\n",
       "      <td>NaN</td>\n",
       "      <td>NaN</td>\n",
       "    </tr>\n",
       "    <tr>\n",
       "      <th>sex</th>\n",
       "      <td>female</td>\n",
       "      <td>female</td>\n",
       "      <td>male</td>\n",
       "      <td>female</td>\n",
       "      <td>male</td>\n",
       "      <td>male</td>\n",
       "      <td>female</td>\n",
       "      <td>male</td>\n",
       "      <td>female</td>\n",
       "      <td>male</td>\n",
       "      <td>...</td>\n",
       "      <td>male</td>\n",
       "      <td>female</td>\n",
       "      <td>male</td>\n",
       "      <td>female</td>\n",
       "      <td>female</td>\n",
       "      <td>male</td>\n",
       "      <td>male</td>\n",
       "      <td>male</td>\n",
       "      <td>female</td>\n",
       "      <td>male</td>\n",
       "    </tr>\n",
       "  </tbody>\n",
       "</table>\n",
       "<p>11 rows × 1313 columns</p>\n",
       "</div>"
      ],
      "text/plain": [
       "                                   0                                1     \\\n",
       "row.names                             1                                2   \n",
       "pclass                              1st                              1st   \n",
       "survived                              1                                0   \n",
       "name       Allen, Miss Elisabeth Walton      Allison, Miss Helen Loraine   \n",
       "age                                29.0                              2.0   \n",
       "embarked                    Southampton                      Southampton   \n",
       "home.dest                  St Louis, MO  Montreal, PQ / Chesterville, ON   \n",
       "room                                B-5                              C26   \n",
       "ticket                       24160 L221                              NaN   \n",
       "boat                                  2                              NaN   \n",
       "sex                              female                           female   \n",
       "\n",
       "                                          2     \\\n",
       "row.names                                    3   \n",
       "pclass                                     1st   \n",
       "survived                                     0   \n",
       "name       Allison, Mr Hudson Joshua Creighton   \n",
       "age                                       30.0   \n",
       "embarked                           Southampton   \n",
       "home.dest      Montreal, PQ / Chesterville, ON   \n",
       "room                                       C26   \n",
       "ticket                                     NaN   \n",
       "boat                                     (135)   \n",
       "sex                                       male   \n",
       "\n",
       "                                                      3     \\\n",
       "row.names                                                4   \n",
       "pclass                                                 1st   \n",
       "survived                                                 0   \n",
       "name       Allison, Mrs Hudson J.C. (Bessie Waldo Daniels)   \n",
       "age                                                   25.0   \n",
       "embarked                                       Southampton   \n",
       "home.dest                  Montreal, PQ / Chesterville, ON   \n",
       "room                                                   C26   \n",
       "ticket                                                 NaN   \n",
       "boat                                                   NaN   \n",
       "sex                                                 female   \n",
       "\n",
       "                                      4                   5     \\\n",
       "row.names                                5                   6   \n",
       "pclass                                 1st                 1st   \n",
       "survived                                 1                   1   \n",
       "name         Allison, Master Hudson Trevor  Anderson, Mr Harry   \n",
       "age                                 0.9167                47.0   \n",
       "embarked                       Southampton         Southampton   \n",
       "home.dest  Montreal, PQ / Chesterville, ON        New York, NY   \n",
       "room                                   C22                E-12   \n",
       "ticket                                 NaN                 NaN   \n",
       "boat                                    11                   3   \n",
       "sex                                   male                male   \n",
       "\n",
       "                                       6                       7     \\\n",
       "row.names                                 7                       8   \n",
       "pclass                                  1st                     1st   \n",
       "survived                                  1                       0   \n",
       "name       Andrews, Miss Kornelia Theodosia  Andrews, Mr Thomas, jr   \n",
       "age                                    63.0                    39.0   \n",
       "embarked                        Southampton             Southampton   \n",
       "home.dest                        Hudson, NY             Belfast, NI   \n",
       "room                                    D-7                    A-36   \n",
       "ticket                            13502 L77                     NaN   \n",
       "boat                                     10                     NaN   \n",
       "sex                                  female                    male   \n",
       "\n",
       "                                                   8     \\\n",
       "row.names                                             9   \n",
       "pclass                                              1st   \n",
       "survived                                              1   \n",
       "name       Appleton, Mrs Edward Dale (Charlotte Lamson)   \n",
       "age                                                58.0   \n",
       "embarked                                    Southampton   \n",
       "home.dest                           Bayside, Queens, NY   \n",
       "room                                              C-101   \n",
       "ticket                                              NaN   \n",
       "boat                                                  2   \n",
       "sex                                              female   \n",
       "\n",
       "                             9     ...                1303  \\\n",
       "row.names                      10  ...                1304   \n",
       "pclass                        1st  ...                 3rd   \n",
       "survived                        0  ...                   0   \n",
       "name       Artagaveytia, Mr Ramon  ...  Yasbeck, Mr Antoni   \n",
       "age                          71.0  ...                 NaN   \n",
       "embarked                Cherbourg  ...                 NaN   \n",
       "home.dest     Montevideo, Uruguay  ...                 NaN   \n",
       "room                          NaN  ...                 NaN   \n",
       "ticket                        NaN  ...                 NaN   \n",
       "boat                         (22)  ...                 NaN   \n",
       "sex                          male  ...                male   \n",
       "\n",
       "                          1304                1305                 1306  \\\n",
       "row.names                 1305                1306                 1307   \n",
       "pclass                     3rd                 3rd                  3rd   \n",
       "survived                     1                   0                    0   \n",
       "name       Yasbeck, Mrs Antoni  Youssef, Mr Gerios  Zabour, Miss Hileni   \n",
       "age                        NaN                 NaN                  NaN   \n",
       "embarked                   NaN                 NaN                  NaN   \n",
       "home.dest                  NaN                 NaN                  NaN   \n",
       "room                       NaN                 NaN                  NaN   \n",
       "ticket                     NaN                 NaN                  NaN   \n",
       "boat                       NaN                 NaN                  NaN   \n",
       "sex                     female                male               female   \n",
       "\n",
       "                          1307                1308                    1309  \\\n",
       "row.names                 1308                1309                    1310   \n",
       "pclass                     3rd                 3rd                     3rd   \n",
       "survived                     0                   0                       0   \n",
       "name       Zabour, Miss Tamini  Zakarian, Mr Artun  Zakarian, Mr Maprieder   \n",
       "age                        NaN                 NaN                     NaN   \n",
       "embarked                   NaN                 NaN                     NaN   \n",
       "home.dest                  NaN                 NaN                     NaN   \n",
       "room                       NaN                 NaN                     NaN   \n",
       "ticket                     NaN                 NaN                     NaN   \n",
       "boat                       NaN                 NaN                     NaN   \n",
       "sex                     female                male                    male   \n",
       "\n",
       "                      1310           1311            1312  \n",
       "row.names             1311           1312            1313  \n",
       "pclass                 3rd            3rd             3rd  \n",
       "survived                 0              0               0  \n",
       "name       Zenn, Mr Philip  Zievens, Rene  Zimmerman, Leo  \n",
       "age                    NaN            NaN             NaN  \n",
       "embarked               NaN            NaN             NaN  \n",
       "home.dest              NaN            NaN             NaN  \n",
       "room                   NaN            NaN             NaN  \n",
       "ticket                 NaN            NaN             NaN  \n",
       "boat                   NaN            NaN             NaN  \n",
       "sex                   male         female            male  \n",
       "\n",
       "[11 rows x 1313 columns]"
      ]
     },
     "execution_count": 2,
     "metadata": {},
     "output_type": "execute_result"
    }
   ],
   "source": [
    "# Load the titanic dataset\n",
    "df = pd.read_csv('./titanic.csv')\n",
    "df.T"
   ]
  },
  {
   "cell_type": "markdown",
   "id": "e54bb862",
   "metadata": {},
   "source": [
    "**Check th information**"
   ]
  },
  {
   "cell_type": "code",
   "execution_count": 3,
   "id": "326db0aa",
   "metadata": {},
   "outputs": [
    {
     "name": "stdout",
     "output_type": "stream",
     "text": [
      "<class 'pandas.core.frame.DataFrame'>\n",
      "RangeIndex: 1313 entries, 0 to 1312\n",
      "Data columns (total 11 columns):\n",
      " #   Column     Non-Null Count  Dtype  \n",
      "---  ------     --------------  -----  \n",
      " 0   row.names  1313 non-null   int64  \n",
      " 1   pclass     1313 non-null   object \n",
      " 2   survived   1313 non-null   int64  \n",
      " 3   name       1313 non-null   object \n",
      " 4   age        633 non-null    float64\n",
      " 5   embarked   821 non-null    object \n",
      " 6   home.dest  754 non-null    object \n",
      " 7   room       77 non-null     object \n",
      " 8   ticket     69 non-null     object \n",
      " 9   boat       347 non-null    object \n",
      " 10  sex        1313 non-null   object \n",
      "dtypes: float64(1), int64(2), object(8)\n",
      "memory usage: 113.0+ KB\n"
     ]
    }
   ],
   "source": [
    "# Check the information\n",
    "df.info()"
   ]
  },
  {
   "cell_type": "code",
   "execution_count": 4,
   "id": "9a99bea4",
   "metadata": {},
   "outputs": [
    {
     "data": {
      "text/html": [
       "<div>\n",
       "<style scoped>\n",
       "    .dataframe tbody tr th:only-of-type {\n",
       "        vertical-align: middle;\n",
       "    }\n",
       "\n",
       "    .dataframe tbody tr th {\n",
       "        vertical-align: top;\n",
       "    }\n",
       "\n",
       "    .dataframe thead th {\n",
       "        text-align: right;\n",
       "    }\n",
       "</style>\n",
       "<table border=\"1\" class=\"dataframe\">\n",
       "  <thead>\n",
       "    <tr style=\"text-align: right;\">\n",
       "      <th></th>\n",
       "      <th>row.names</th>\n",
       "      <th>survived</th>\n",
       "      <th>age</th>\n",
       "    </tr>\n",
       "  </thead>\n",
       "  <tbody>\n",
       "    <tr>\n",
       "      <th>count</th>\n",
       "      <td>1313.000000</td>\n",
       "      <td>1313.000000</td>\n",
       "      <td>633.000000</td>\n",
       "    </tr>\n",
       "    <tr>\n",
       "      <th>mean</th>\n",
       "      <td>657.000000</td>\n",
       "      <td>0.341965</td>\n",
       "      <td>31.194181</td>\n",
       "    </tr>\n",
       "    <tr>\n",
       "      <th>std</th>\n",
       "      <td>379.174762</td>\n",
       "      <td>0.474549</td>\n",
       "      <td>14.747525</td>\n",
       "    </tr>\n",
       "    <tr>\n",
       "      <th>min</th>\n",
       "      <td>1.000000</td>\n",
       "      <td>0.000000</td>\n",
       "      <td>0.166700</td>\n",
       "    </tr>\n",
       "    <tr>\n",
       "      <th>25%</th>\n",
       "      <td>329.000000</td>\n",
       "      <td>0.000000</td>\n",
       "      <td>21.000000</td>\n",
       "    </tr>\n",
       "    <tr>\n",
       "      <th>50%</th>\n",
       "      <td>657.000000</td>\n",
       "      <td>0.000000</td>\n",
       "      <td>30.000000</td>\n",
       "    </tr>\n",
       "    <tr>\n",
       "      <th>75%</th>\n",
       "      <td>985.000000</td>\n",
       "      <td>1.000000</td>\n",
       "      <td>41.000000</td>\n",
       "    </tr>\n",
       "    <tr>\n",
       "      <th>max</th>\n",
       "      <td>1313.000000</td>\n",
       "      <td>1.000000</td>\n",
       "      <td>71.000000</td>\n",
       "    </tr>\n",
       "  </tbody>\n",
       "</table>\n",
       "</div>"
      ],
      "text/plain": [
       "         row.names     survived         age\n",
       "count  1313.000000  1313.000000  633.000000\n",
       "mean    657.000000     0.341965   31.194181\n",
       "std     379.174762     0.474549   14.747525\n",
       "min       1.000000     0.000000    0.166700\n",
       "25%     329.000000     0.000000   21.000000\n",
       "50%     657.000000     0.000000   30.000000\n",
       "75%     985.000000     1.000000   41.000000\n",
       "max    1313.000000     1.000000   71.000000"
      ]
     },
     "execution_count": 4,
     "metadata": {},
     "output_type": "execute_result"
    }
   ],
   "source": [
    "df.describe()"
   ]
  },
  {
   "cell_type": "code",
   "execution_count": 5,
   "id": "309a703e",
   "metadata": {},
   "outputs": [
    {
     "data": {
      "image/png": "[encoded data removed]",
      "text/plain": [
       "<Figure size 640x480 with 1 Axes>"
      ]
     },
     "metadata": {},
     "output_type": "display_data"
    }
   ],
   "source": [
    "# Check the age distribution\n",
    "df['age'].plot.hist();"
   ]
  },
  {
   "cell_type": "code",
   "execution_count": 6,
   "id": "00391276",
   "metadata": {},
   "outputs": [
    {
     "data": {
      "text/plain": [
       "row.names       0\n",
       "pclass          0\n",
       "survived        0\n",
       "name            0\n",
       "age           680\n",
       "embarked      492\n",
       "home.dest     559\n",
       "room         1236\n",
       "ticket       1244\n",
       "boat          966\n",
       "sex             0\n",
       "dtype: int64"
      ]
     },
     "execution_count": 6,
     "metadata": {},
     "output_type": "execute_result"
    }
   ],
   "source": [
    "# Check the NaN\n",
    "df.isna().sum()"
   ]
  },
  {
   "cell_type": "code",
   "execution_count": 7,
   "id": "d0734e2a",
   "metadata": {},
   "outputs": [
    {
     "data": {
      "image/png": "[encoded data removed]",
      "text/plain": [
       "<Figure size 640x480 with 1 Axes>"
      ]
     },
     "metadata": {},
     "output_type": "display_data"
    }
   ],
   "source": [
    "# Check the relationship between 'survived' and 'pclass' -> whether the survive rate can be atrributed to pclass?\n",
    "pd.crosstab(df['survived'], df['pclass']).plot.bar();"
   ]
  },
  {
   "cell_type": "code",
   "execution_count": 8,
   "id": "662a351e",
   "metadata": {},
   "outputs": [
    {
     "data": {
      "image/png": "[encoded data removed]",
      "text/plain": [
       "<Figure size 640x480 with 1 Axes>"
      ]
     },
     "metadata": {},
     "output_type": "display_data"
    }
   ],
   "source": [
    "# Check the relationship between 'survived' and 'sex' -> whether the survive rate can be atrributed to sex?\n",
    "pd.crosstab(df['sex'], df['survived']).plot.bar();"
   ]
  },
  {
   "cell_type": "code",
   "execution_count": 9,
   "id": "4be04218",
   "metadata": {},
   "outputs": [
    {
     "data": {
      "text/html": [
       "<div>\n",
       "<style scoped>\n",
       "    .dataframe tbody tr th:only-of-type {\n",
       "        vertical-align: middle;\n",
       "    }\n",
       "\n",
       "    .dataframe tbody tr th {\n",
       "        vertical-align: top;\n",
       "    }\n",
       "\n",
       "    .dataframe thead th {\n",
       "        text-align: right;\n",
       "    }\n",
       "</style>\n",
       "<table border=\"1\" class=\"dataframe\">\n",
       "  <thead>\n",
       "    <tr style=\"text-align: right;\">\n",
       "      <th></th>\n",
       "      <th>0</th>\n",
       "      <th>1</th>\n",
       "      <th>2</th>\n",
       "      <th>3</th>\n",
       "      <th>4</th>\n",
       "    </tr>\n",
       "  </thead>\n",
       "  <tbody>\n",
       "    <tr>\n",
       "      <th>row.names</th>\n",
       "      <td>1</td>\n",
       "      <td>2</td>\n",
       "      <td>3</td>\n",
       "      <td>4</td>\n",
       "      <td>5</td>\n",
       "    </tr>\n",
       "    <tr>\n",
       "      <th>pclass</th>\n",
       "      <td>1st</td>\n",
       "      <td>1st</td>\n",
       "      <td>1st</td>\n",
       "      <td>1st</td>\n",
       "      <td>1st</td>\n",
       "    </tr>\n",
       "    <tr>\n",
       "      <th>survived</th>\n",
       "      <td>1</td>\n",
       "      <td>0</td>\n",
       "      <td>0</td>\n",
       "      <td>0</td>\n",
       "      <td>1</td>\n",
       "    </tr>\n",
       "    <tr>\n",
       "      <th>name</th>\n",
       "      <td>Allen, Miss Elisabeth Walton</td>\n",
       "      <td>Allison, Miss Helen Loraine</td>\n",
       "      <td>Allison, Mr Hudson Joshua Creighton</td>\n",
       "      <td>Allison, Mrs Hudson J.C. (Bessie Waldo Daniels)</td>\n",
       "      <td>Allison, Master Hudson Trevor</td>\n",
       "    </tr>\n",
       "    <tr>\n",
       "      <th>age</th>\n",
       "      <td>29.0</td>\n",
       "      <td>2.0</td>\n",
       "      <td>30.0</td>\n",
       "      <td>25.0</td>\n",
       "      <td>0.9167</td>\n",
       "    </tr>\n",
       "    <tr>\n",
       "      <th>embarked</th>\n",
       "      <td>Southampton</td>\n",
       "      <td>Southampton</td>\n",
       "      <td>Southampton</td>\n",
       "      <td>Southampton</td>\n",
       "      <td>Southampton</td>\n",
       "    </tr>\n",
       "    <tr>\n",
       "      <th>home.dest</th>\n",
       "      <td>St Louis, MO</td>\n",
       "      <td>Montreal, PQ / Chesterville, ON</td>\n",
       "      <td>Montreal, PQ / Chesterville, ON</td>\n",
       "      <td>Montreal, PQ / Chesterville, ON</td>\n",
       "      <td>Montreal, PQ / Chesterville, ON</td>\n",
       "    </tr>\n",
       "    <tr>\n",
       "      <th>room</th>\n",
       "      <td>B-5</td>\n",
       "      <td>C26</td>\n",
       "      <td>C26</td>\n",
       "      <td>C26</td>\n",
       "      <td>C22</td>\n",
       "    </tr>\n",
       "    <tr>\n",
       "      <th>ticket</th>\n",
       "      <td>24160 L221</td>\n",
       "      <td>NaN</td>\n",
       "      <td>NaN</td>\n",
       "      <td>NaN</td>\n",
       "      <td>NaN</td>\n",
       "    </tr>\n",
       "    <tr>\n",
       "      <th>boat</th>\n",
       "      <td>2</td>\n",
       "      <td>NaN</td>\n",
       "      <td>(135)</td>\n",
       "      <td>NaN</td>\n",
       "      <td>11</td>\n",
       "    </tr>\n",
       "    <tr>\n",
       "      <th>sex</th>\n",
       "      <td>female</td>\n",
       "      <td>female</td>\n",
       "      <td>male</td>\n",
       "      <td>female</td>\n",
       "      <td>male</td>\n",
       "    </tr>\n",
       "  </tbody>\n",
       "</table>\n",
       "</div>"
      ],
      "text/plain": [
       "                                      0                                1  \\\n",
       "row.names                             1                                2   \n",
       "pclass                              1st                              1st   \n",
       "survived                              1                                0   \n",
       "name       Allen, Miss Elisabeth Walton      Allison, Miss Helen Loraine   \n",
       "age                                29.0                              2.0   \n",
       "embarked                    Southampton                      Southampton   \n",
       "home.dest                  St Louis, MO  Montreal, PQ / Chesterville, ON   \n",
       "room                                B-5                              C26   \n",
       "ticket                       24160 L221                              NaN   \n",
       "boat                                  2                              NaN   \n",
       "sex                              female                           female   \n",
       "\n",
       "                                             2  \\\n",
       "row.names                                    3   \n",
       "pclass                                     1st   \n",
       "survived                                     0   \n",
       "name       Allison, Mr Hudson Joshua Creighton   \n",
       "age                                       30.0   \n",
       "embarked                           Southampton   \n",
       "home.dest      Montreal, PQ / Chesterville, ON   \n",
       "room                                       C26   \n",
       "ticket                                     NaN   \n",
       "boat                                     (135)   \n",
       "sex                                       male   \n",
       "\n",
       "                                                         3  \\\n",
       "row.names                                                4   \n",
       "pclass                                                 1st   \n",
       "survived                                                 0   \n",
       "name       Allison, Mrs Hudson J.C. (Bessie Waldo Daniels)   \n",
       "age                                                   25.0   \n",
       "embarked                                       Southampton   \n",
       "home.dest                  Montreal, PQ / Chesterville, ON   \n",
       "room                                                   C26   \n",
       "ticket                                                 NaN   \n",
       "boat                                                   NaN   \n",
       "sex                                                 female   \n",
       "\n",
       "                                         4  \n",
       "row.names                                5  \n",
       "pclass                                 1st  \n",
       "survived                                 1  \n",
       "name         Allison, Master Hudson Trevor  \n",
       "age                                 0.9167  \n",
       "embarked                       Southampton  \n",
       "home.dest  Montreal, PQ / Chesterville, ON  \n",
       "room                                   C22  \n",
       "ticket                                 NaN  \n",
       "boat                                    11  \n",
       "sex                                   male  "
      ]
     },
     "execution_count": 9,
     "metadata": {},
     "output_type": "execute_result"
    }
   ],
   "source": [
    "df.head().T"
   ]
  },
  {
   "cell_type": "code",
   "execution_count": 10,
   "id": "557130e9",
   "metadata": {},
   "outputs": [],
   "source": [
    "# Make a copy\n",
    "df = pd.read_csv('./titanic.csv')\n",
    "df_copy = df.copy()"
   ]
  },
  {
   "cell_type": "markdown",
   "id": "a64aa794",
   "metadata": {},
   "source": [
    "- 如果要用多個 column 建議用 `df.loc`就不會出現 SettingWithCopyWarning: https://pandas.pydata.org/pandas-docs/stable/user_guide/indexing.html#returning-a-view-versus-a-copy"
   ]
  },
  {
   "cell_type": "code",
   "execution_count": 11,
   "id": "c2c14670",
   "metadata": {},
   "outputs": [
    {
     "data": {
      "text/plain": [
       "((1313, 3), (1313,))"
      ]
     },
     "execution_count": 11,
     "metadata": {},
     "output_type": "execute_result"
    }
   ],
   "source": [
    "# Create X and y\n",
    "X = df_copy.loc[:, ('pclass', 'age', 'sex')] \n",
    "y = df_copy['survived']\n",
    "X.shape, y.shape"
   ]
  },
  {
   "cell_type": "code",
   "execution_count": 12,
   "id": "1e7ef1b3",
   "metadata": {},
   "outputs": [
    {
     "data": {
      "text/html": [
       "<div>\n",
       "<style scoped>\n",
       "    .dataframe tbody tr th:only-of-type {\n",
       "        vertical-align: middle;\n",
       "    }\n",
       "\n",
       "    .dataframe tbody tr th {\n",
       "        vertical-align: top;\n",
       "    }\n",
       "\n",
       "    .dataframe thead th {\n",
       "        text-align: right;\n",
       "    }\n",
       "</style>\n",
       "<table border=\"1\" class=\"dataframe\">\n",
       "  <thead>\n",
       "    <tr style=\"text-align: right;\">\n",
       "      <th></th>\n",
       "      <th>pclass</th>\n",
       "      <th>age</th>\n",
       "      <th>sex</th>\n",
       "    </tr>\n",
       "  </thead>\n",
       "  <tbody>\n",
       "    <tr>\n",
       "      <th>0</th>\n",
       "      <td>1st</td>\n",
       "      <td>29.0000</td>\n",
       "      <td>female</td>\n",
       "    </tr>\n",
       "    <tr>\n",
       "      <th>1</th>\n",
       "      <td>1st</td>\n",
       "      <td>2.0000</td>\n",
       "      <td>female</td>\n",
       "    </tr>\n",
       "    <tr>\n",
       "      <th>2</th>\n",
       "      <td>1st</td>\n",
       "      <td>30.0000</td>\n",
       "      <td>male</td>\n",
       "    </tr>\n",
       "    <tr>\n",
       "      <th>3</th>\n",
       "      <td>1st</td>\n",
       "      <td>25.0000</td>\n",
       "      <td>female</td>\n",
       "    </tr>\n",
       "    <tr>\n",
       "      <th>4</th>\n",
       "      <td>1st</td>\n",
       "      <td>0.9167</td>\n",
       "      <td>male</td>\n",
       "    </tr>\n",
       "  </tbody>\n",
       "</table>\n",
       "</div>"
      ],
      "text/plain": [
       "  pclass      age     sex\n",
       "0    1st  29.0000  female\n",
       "1    1st   2.0000  female\n",
       "2    1st  30.0000    male\n",
       "3    1st  25.0000  female\n",
       "4    1st   0.9167    male"
      ]
     },
     "execution_count": 12,
     "metadata": {},
     "output_type": "execute_result"
    }
   ],
   "source": [
    "X.head()"
   ]
  },
  {
   "cell_type": "markdown",
   "id": "82351f7e",
   "metadata": {},
   "source": [
    "- 在填補缺失值之前，如果你想讀入的 DataFrame 很大，可以只讀入特定的欄位並將已知的分類型（categorical）欄位轉成 category 型態以節省記憶體（在分類數目較數據量小時有效）：https://leemeng.tw/practical-pandas-tutorial-for-aspiring-data-scientists.html#%E5%9F%BA%E6%9C%AC%E6%95%B8%E6%93%9A%E8%99%95%E7%90%86%E8%88%87%E8%BD%89%E6%8F%9B_1"
   ]
  },
  {
   "cell_type": "markdown",
   "id": "5ad3b9cd",
   "metadata": {},
   "source": [
    "### **1. Option1: Use pandas built-in fuction to fill the NaN**"
   ]
  },
  {
   "cell_type": "code",
   "execution_count": 13,
   "id": "1ab6df35",
   "metadata": {},
   "outputs": [],
   "source": [
    "X['age'].fillna(X['age'].mean(), inplace=True)"
   ]
  },
  {
   "cell_type": "markdown",
   "id": "50c2f6f0",
   "metadata": {},
   "source": [
    "### **2. Option2: Use sklearn built-in fuction to fill the NaN** -> (I choose option1)"
   ]
  },
  {
   "cell_type": "code",
   "execution_count": 21,
   "id": "c0904ff2",
   "metadata": {},
   "outputs": [
    {
     "data": {
      "text/plain": [
       "array([[29.0, '1st', 'female'],\n",
       "       [2.0, '1st', 'female'],\n",
       "       [30.0, '1st', 'male'],\n",
       "       ...,\n",
       "       [31.19418104265403, '3rd', 'male'],\n",
       "       [31.19418104265403, '3rd', 'female'],\n",
       "       [31.19418104265403, '3rd', 'male']], dtype=object)"
      ]
     },
     "execution_count": 21,
     "metadata": {},
     "output_type": "execute_result"
    }
   ],
   "source": [
    "from sklearn.impute import SimpleImputer\n",
    "from sklearn.compose import ColumnTransformer\n",
    "\n",
    "# fill NaN of age with mean \n",
    "age_imputer = SimpleImputer(strategy='mean')\n",
    "\n",
    "# define column\n",
    "age_feature = ['age']\n",
    "\n",
    "# define imputer\n",
    "imputer = ColumnTransformer([('age_imputer',\n",
    "                               age_imputer,\n",
    "                               age_feature)],\n",
    "                             remainder='passthrough')\n",
    "\n",
    "# transform data\n",
    "filled_X = imputer.fit_transform(X)\n",
    "filled_X"
   ]
  },
  {
   "cell_type": "code",
   "execution_count": 14,
   "id": "c6ca7487",
   "metadata": {},
   "outputs": [
    {
     "data": {
      "text/plain": [
       "pclass    0\n",
       "age       0\n",
       "sex       0\n",
       "dtype: int64"
      ]
     },
     "execution_count": 14,
     "metadata": {},
     "output_type": "execute_result"
    }
   ],
   "source": [
    "X.isna().sum()"
   ]
  },
  {
   "cell_type": "code",
   "execution_count": 15,
   "id": "d5da258c",
   "metadata": {},
   "outputs": [
    {
     "data": {
      "text/html": [
       "<div>\n",
       "<style scoped>\n",
       "    .dataframe tbody tr th:only-of-type {\n",
       "        vertical-align: middle;\n",
       "    }\n",
       "\n",
       "    .dataframe tbody tr th {\n",
       "        vertical-align: top;\n",
       "    }\n",
       "\n",
       "    .dataframe thead th {\n",
       "        text-align: right;\n",
       "    }\n",
       "</style>\n",
       "<table border=\"1\" class=\"dataframe\">\n",
       "  <thead>\n",
       "    <tr style=\"text-align: right;\">\n",
       "      <th></th>\n",
       "      <th>pclass</th>\n",
       "      <th>age</th>\n",
       "      <th>sex</th>\n",
       "    </tr>\n",
       "  </thead>\n",
       "  <tbody>\n",
       "    <tr>\n",
       "      <th>0</th>\n",
       "      <td>1st</td>\n",
       "      <td>29.0000</td>\n",
       "      <td>female</td>\n",
       "    </tr>\n",
       "    <tr>\n",
       "      <th>1</th>\n",
       "      <td>1st</td>\n",
       "      <td>2.0000</td>\n",
       "      <td>female</td>\n",
       "    </tr>\n",
       "    <tr>\n",
       "      <th>2</th>\n",
       "      <td>1st</td>\n",
       "      <td>30.0000</td>\n",
       "      <td>male</td>\n",
       "    </tr>\n",
       "    <tr>\n",
       "      <th>3</th>\n",
       "      <td>1st</td>\n",
       "      <td>25.0000</td>\n",
       "      <td>female</td>\n",
       "    </tr>\n",
       "    <tr>\n",
       "      <th>4</th>\n",
       "      <td>1st</td>\n",
       "      <td>0.9167</td>\n",
       "      <td>male</td>\n",
       "    </tr>\n",
       "  </tbody>\n",
       "</table>\n",
       "</div>"
      ],
      "text/plain": [
       "  pclass      age     sex\n",
       "0    1st  29.0000  female\n",
       "1    1st   2.0000  female\n",
       "2    1st  30.0000    male\n",
       "3    1st  25.0000  female\n",
       "4    1st   0.9167    male"
      ]
     },
     "execution_count": 15,
     "metadata": {},
     "output_type": "execute_result"
    }
   ],
   "source": [
    "X.head()"
   ]
  },
  {
   "cell_type": "code",
   "execution_count": 16,
   "id": "15695ef6",
   "metadata": {},
   "outputs": [
    {
     "name": "stdout",
     "output_type": "stream",
     "text": [
      "[[ 1.          0.          0.          1.          0.         29.        ]\n",
      " [ 1.          0.          0.          1.          0.          2.        ]\n",
      " [ 1.          0.          0.          0.          1.         30.        ]\n",
      " ...\n",
      " [ 0.          0.          1.          0.          1.         31.19418104]\n",
      " [ 0.          0.          1.          1.          0.         31.19418104]\n",
      " [ 0.          0.          1.          0.          1.         31.19418104]]\n"
     ]
    }
   ],
   "source": [
    "# turn the non-numerical data into numeric data\n",
    "from sklearn.preprocessing import OneHotEncoder\n",
    "from sklearn.compose import ColumnTransformer\n",
    "\n",
    "categorical_features = ['pclass', 'sex']\n",
    "one_hot = OneHotEncoder()\n",
    "transformer = ColumnTransformer([('one_hot',\n",
    "                                   one_hot,\n",
    "                                   categorical_features)], remainder='passthrough')\n",
    "transformed_X = transformer.fit_transform(X)\n",
    "print(transformed_X)"
   ]
  },
  {
   "cell_type": "code",
   "execution_count": 17,
   "id": "05d9cd45",
   "metadata": {},
   "outputs": [
    {
     "data": {
      "text/plain": [
       "((1050, 6), (263, 6), (1050,), (263,))"
      ]
     },
     "execution_count": 17,
     "metadata": {},
     "output_type": "execute_result"
    }
   ],
   "source": [
    "# Create training data set and test data set \n",
    "X_train, X_test, y_train, y_test = train_test_split(transformed_X, y, test_size=0.2)\n",
    "\n",
    "X_train.shape, X_test.shape, y_train.shape, y_test.shape"
   ]
  },
  {
   "cell_type": "code",
   "execution_count": 18,
   "id": "3555f451",
   "metadata": {},
   "outputs": [
    {
     "name": "stdout",
     "output_type": "stream",
     "text": [
      "[LogisticRegressor] model: 0.8212927756653993\n",
      "[GaussianNB] model: 0.7718631178707225\n",
      "[KNeighborsClassifier] model: 0.8212927756653993\n",
      "[RandomForestClassifier] model: 0.8136882129277566\n",
      "[SVC] model: 0.6844106463878327\n"
     ]
    }
   ],
   "source": [
    "# Fit the models\n",
    "models = {\n",
    "    'LogisticRegressor': LogisticRegression(),\n",
    "    'GaussianNB': GaussianNB(),\n",
    "    'KNeighborsClassifier': KNeighborsClassifier(),\n",
    "    'RandomForestClassifier': RandomForestClassifier(),\n",
    "    'SVC': SVC()}\n",
    "\n",
    "def fit_and_score(models, X_train, y_train, X_test, y_test):\n",
    "    \"\"\"\n",
    "    Use train set to fit model and score the test set\n",
    "    X_train : training data (no labels)\n",
    "    X_test : testing data (no labels)\n",
    "    y_train : training labels\n",
    "    y_test : test labels\n",
    "    models are packaged in dictionary\n",
    "    \"\"\"\n",
    "    \n",
    "    model_scores = {}\n",
    "    \n",
    "    for name, model in models.items():\n",
    "        # fit the model\n",
    "        model.fit(X_train, y_train)\n",
    "        # score the model and store it to a dict\n",
    "        model_scores[name] = model.score(X_test, y_test)\n",
    "        print('[%s] model: %s'%(name, model_scores[name]))\n",
    "    return model_scores\n",
    "\n",
    "Titanic_model_scores = fit_and_score(models, X_train, y_train, X_test, y_test)"
   ]
  },
  {
   "cell_type": "markdown",
   "id": "cf6659a3",
   "metadata": {},
   "source": [
    "### LogisticeRegression and KNN models perform well -> Let's search the best hyperparameters"
   ]
  },
  {
   "cell_type": "code",
   "execution_count": null,
   "id": "410fb5e4",
   "metadata": {},
   "outputs": [],
   "source": [
    "# LogisticRegression\n",
    "\n",
    "log_reg_grid = {'C': np.logspace(-4, 4, 20),\n",
    "                'solver': ['lbfgs', 'newton-cg', 'sag'],\n",
    "                'max_iter': np.arange(0, 100, 2)}\n",
    "\n",
    "gs_log_reg = GridSearchCV(estimator=LogisticRegression(),\n",
    "                          param_grid=log_reg_grid,\n",
    "                          cv=5,\n",
    "                          verbose=2)\n",
    "gs_log_reg.fit(X_train, y_train)"
   ]
  },
  {
   "cell_type": "code",
   "execution_count": 20,
   "id": "9d2bb8a1",
   "metadata": {},
   "outputs": [
    {
     "data": {
      "text/plain": [
       "{'C': 78.47599703514607, 'max_iter': 20, 'solver': 'lbfgs'}"
      ]
     },
     "execution_count": 20,
     "metadata": {},
     "output_type": "execute_result"
    }
   ],
   "source": [
    "# Best parameters\n",
    "gs_log_reg.best_params_"
   ]
  },
  {
   "cell_type": "code",
   "execution_count": 21,
   "id": "84007011",
   "metadata": {},
   "outputs": [
    {
     "data": {
      "text/plain": [
       "0.8060836501901141"
      ]
     },
     "execution_count": 21,
     "metadata": {},
     "output_type": "execute_result"
    }
   ],
   "source": [
    "# Use the best parameters to score the model\n",
    "gs_log_reg.score(X_test, y_test)"
   ]
  },
  {
   "cell_type": "code",
   "execution_count": 22,
   "id": "9c5d5944",
   "metadata": {},
   "outputs": [
    {
     "data": {
      "text/plain": [
       "0.8212927756653993"
      ]
     },
     "execution_count": 22,
     "metadata": {},
     "output_type": "execute_result"
    }
   ],
   "source": [
    "# Compare with the previous score\n",
    "Titanic_model_scores['LogisticRegressor']"
   ]
  },
  {
   "cell_type": "code",
   "execution_count": null,
   "id": "e9fdde8f",
   "metadata": {},
   "outputs": [],
   "source": [
    "# KNeighborsClassifier\n",
    "\n",
    "KNN_grid = {\n",
    "    'n_neighbors': [2, 3, 5, 7],\n",
    "    'algorithm': ['auto', 'ball_tree', 'kd_tree', 'brute'],\n",
    "    'n_jobs': [None, 1, -1]}\n",
    "\n",
    "gs_KNN = GridSearchCV(estimator=KNeighborsClassifier(),\n",
    "                      param_grid=KNN_grid,\n",
    "                      cv=5,\n",
    "                      verbose=2)\n",
    "gs_KNN.fit(X_train, y_train)"
   ]
  },
  {
   "cell_type": "code",
   "execution_count": 24,
   "id": "ac54418b",
   "metadata": {},
   "outputs": [
    {
     "data": {
      "text/plain": [
       "{'algorithm': 'auto', 'n_jobs': None, 'n_neighbors': 7}"
      ]
     },
     "execution_count": 24,
     "metadata": {},
     "output_type": "execute_result"
    }
   ],
   "source": [
    "gs_KNN.best_params_"
   ]
  },
  {
   "cell_type": "code",
   "execution_count": 25,
   "id": "9a685ae9",
   "metadata": {},
   "outputs": [
    {
     "data": {
      "text/plain": [
       "0.8326996197718631"
      ]
     },
     "execution_count": 25,
     "metadata": {},
     "output_type": "execute_result"
    }
   ],
   "source": [
    "gs_KNN.score(X_test, y_test)"
   ]
  },
  {
   "cell_type": "code",
   "execution_count": 26,
   "id": "28232148",
   "metadata": {},
   "outputs": [
    {
     "data": {
      "text/plain": [
       "0.8212927756653993"
      ]
     },
     "execution_count": 26,
     "metadata": {},
     "output_type": "execute_result"
    }
   ],
   "source": [
    "Titanic_model_scores['KNeighborsClassifier']"
   ]
  },
  {
   "cell_type": "markdown",
   "id": "509704a8",
   "metadata": {},
   "source": [
    "### Use the best hyperparameters"
   ]
  },
  {
   "cell_type": "code",
   "execution_count": 28,
   "id": "11649999",
   "metadata": {},
   "outputs": [
    {
     "data": {
      "text/plain": [
       "array([0, 0, 1, 0, 0, 0, 0, 0, 0, 0, 0, 0, 0, 0, 1, 0, 0, 1, 1, 1, 0, 0,\n",
       "       1, 0, 0, 0, 0, 0, 0, 0, 0, 1, 0, 1, 0, 1, 0, 0, 0, 0, 0, 0, 0, 1,\n",
       "       0, 0, 0, 0, 0, 0, 1, 0, 1, 0, 0, 0, 1, 0, 0, 0, 1, 0, 0, 0, 1, 0,\n",
       "       0, 0, 0, 0, 1, 0, 0, 0, 0, 1, 0, 0, 0, 0, 0, 0, 1, 0, 1, 0, 0, 0,\n",
       "       0, 0, 0, 0, 0, 0, 0, 0, 0, 0, 0, 0, 0, 0, 0, 0, 0, 0, 1, 0, 1, 0,\n",
       "       0, 0, 1, 0, 0, 0, 0, 0, 0, 0, 0, 0, 0, 0, 0, 0, 0, 1, 0, 0, 1, 0,\n",
       "       0, 0, 0, 0, 1, 0, 1, 0, 0, 1, 0, 0, 0, 1, 0, 0, 0, 0, 1, 0, 0, 0,\n",
       "       0, 0, 1, 1, 1, 1, 0, 0, 0, 1, 1, 0, 0, 0, 0, 0, 0, 0, 0, 0, 0, 0,\n",
       "       0, 0, 0, 1, 0, 0, 0, 0, 0, 0, 1, 0, 0, 0, 0, 0, 1, 0, 0, 0, 1, 0,\n",
       "       1, 0, 0, 1, 0, 0, 1, 0, 0, 1, 1, 0, 0, 0, 0, 0, 0, 0, 1, 1, 0, 0,\n",
       "       1, 0, 0, 0, 0, 0, 1, 0, 0, 1, 0, 0, 0, 1, 0, 0, 1, 1, 0, 1, 0, 0,\n",
       "       1, 0, 0, 0, 0, 0, 0, 0, 0, 0, 0, 1, 0, 0, 0, 1, 0, 1, 0, 1, 0],\n",
       "      dtype=int64)"
      ]
     },
     "execution_count": 28,
     "metadata": {},
     "output_type": "execute_result"
    }
   ],
   "source": [
    "# Make predictions\n",
    "clf = KNeighborsClassifier(algorithm='auto', n_jobs=None, n_neighbors=7)\n",
    "clf.fit(X_train, y_train)\n",
    "y_preds = clf.predict(X_test)\n",
    "y_preds"
   ]
  },
  {
   "cell_type": "code",
   "execution_count": 29,
   "id": "59a6b818",
   "metadata": {},
   "outputs": [
    {
     "name": "stdout",
     "output_type": "stream",
     "text": [
      "              precision    recall  f1-score   support\n",
      "\n",
      "           0       0.82      0.96      0.88       175\n",
      "           1       0.88      0.58      0.70        88\n",
      "\n",
      "    accuracy                           0.83       263\n",
      "   macro avg       0.85      0.77      0.79       263\n",
      "weighted avg       0.84      0.83      0.82       263\n",
      "\n"
     ]
    }
   ],
   "source": [
    "print(classification_report(y_test, y_preds))"
   ]
  },
  {
   "cell_type": "code",
   "execution_count": 30,
   "id": "2680f4fb",
   "metadata": {},
   "outputs": [
    {
     "data": {
      "image/png": "[encoded data removed]",
      "text/plain": [
       "<Figure size 640x480 with 1 Axes>"
      ]
     },
     "metadata": {},
     "output_type": "display_data"
    },
    {
     "data": {
      "image/png": "[encoded data removed]",
      "text/plain": [
       "<Figure size 640x480 with 1 Axes>"
      ]
     },
     "metadata": {},
     "output_type": "display_data"
    }
   ],
   "source": [
    "df_copy['survived'].value_counts().plot.bar()\n",
    "pd.crosstab(df_copy['sex'], df_copy['survived']).plot.bar(rot=0);"
   ]
  },
  {
   "cell_type": "code",
   "execution_count": 31,
   "id": "e44291f9",
   "metadata": {},
   "outputs": [
    {
     "data": {
      "text/plain": [
       "<Figure size 200x200 with 0 Axes>"
      ]
     },
     "metadata": {},
     "output_type": "display_data"
    },
    {
     "data": {
      "image/png": "[encoded data removed]",
      "text/plain": [
       "<Figure size 640x480 with 1 Axes>"
      ]
     },
     "metadata": {},
     "output_type": "display_data"
    }
   ],
   "source": [
    "# Plot the confusion matrix\n",
    "sns.set(font_scale=1.5)\n",
    "plt.figure(figsize=(2,2))\n",
    "fig, ax = plt.subplots()\n",
    "ax = sns.heatmap(confusion_matrix(y_test, y_preds),\n",
    "                 cbar=False,\n",
    "                 annot=True)\n",
    "plt.xlabel('Predicted label')\n",
    "plt.ylabel('True label')\n",
    "plt.show()"
   ]
  },
  {
   "cell_type": "code",
   "execution_count": 32,
   "id": "71b9d917",
   "metadata": {},
   "outputs": [
    {
     "data": {
      "image/png": "[encoded data removed]",
      "text/plain": [
       "<Figure size 640x480 with 1 Axes>"
      ]
     },
     "metadata": {},
     "output_type": "display_data"
    }
   ],
   "source": [
    "# Calculate the tpr, fpr and plot the ROC_AUC_CURVE\n",
    "y_probs = clf.predict_proba(X_test) # Get predicted probabilities\n",
    "y_probs_positive = y_probs[:, 1] # Get the positive probabilities \n",
    "fpr, tpr, threshold = roc_curve(y_test, y_probs_positive) # Get fpr, tpr\n",
    "roc_auc = auc(fpr, tpr) # Calculate the roc_auc\n",
    "display = RocCurveDisplay(fpr=fpr, tpr=tpr, roc_auc=roc_auc) # Plot the roc_auc_curve\n",
    "display.plot();"
   ]
  },
  {
   "cell_type": "code",
   "execution_count": 33,
   "id": "80901e4b",
   "metadata": {},
   "outputs": [],
   "source": [
    "# Make five times experiments and Ccalculate the mean value\n",
    "seeds = np.random.randint(1, 101, size=(5,))\n",
    "accuracy =[]\n",
    "precision = []\n",
    "recall = []\n",
    "F1 = []\n",
    "for seed in seeds:\n",
    "    np.random.seed(seed=seed)\n",
    "    clf.fit(X_train, y_train)\n",
    "    Y_pred = clf.predict(X_test)\n",
    "    Acc = clf.score(X_test, y_test)\n",
    "    accuracy.append(Acc)\n",
    "    precision.append(precision_score(y_test, Y_pred))\n",
    "    recall.append(recall_score(y_test, Y_pred))\n",
    "    F1.append(f1_score(y_test, Y_pred))"
   ]
  },
  {
   "cell_type": "code",
   "execution_count": 34,
   "id": "fb697df7",
   "metadata": {},
   "outputs": [
    {
     "data": {
      "image/png": "[encoded data removed]",
      "text/plain": [
       "<Figure size 500x500 with 1 Axes>"
      ]
     },
     "metadata": {},
     "output_type": "display_data"
    }
   ],
   "source": [
    "accuracy_avg = np.mean(accuracy)\n",
    "precision_avg = np.mean(precision)\n",
    "recall_avg = np.mean(recall)\n",
    "F1_avg = np.mean(F1)\n",
    "\n",
    "classification_df = pd.DataFrame({'Accuracy': accuracy_avg,\n",
    "                                  'Precision': precision_avg,\n",
    "                                  'Recall': recall_avg,\n",
    "                                  'F1 score': F1_avg},\n",
    "                                 index=['Classification Report'])\n",
    "classification_df.T.plot.bar(rot=45, figsize=(5, 5), legend=False, ylim=[0, 1]);"
   ]
  },
  {
   "cell_type": "markdown",
   "id": "681ab41c",
   "metadata": {},
   "source": [
    "### End"
   ]
  },
  {
   "cell_type": "code",
   "execution_count": null,
   "id": "d512fba3",
   "metadata": {},
   "outputs": [],
   "source": []
  }
 ],
 "metadata": {
  "kernelspec": {
   "display_name": "Python 3 (ipykernel)",
   "language": "python",
   "name": "python3"
  },
  "language_info": {
   "codemirror_mode": {
    "name": "ipython",
    "version": 3
   },
   "file_extension": ".py",
   "mimetype": "text/x-python",
   "name": "python",
   "nbconvert_exporter": "python",
   "pygments_lexer": "ipython3",
   "version": "3.10.9"
  }
 },
 "nbformat": 4,
 "nbformat_minor": 5
}
